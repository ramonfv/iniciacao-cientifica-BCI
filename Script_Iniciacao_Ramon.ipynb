{
  "cells": [
    {
      "cell_type": "markdown",
      "metadata": {
        "id": "view-in-github",
        "colab_type": "text"
      },
      "source": [
        "<a href=\"https://colab.research.google.com/github/ramonfv/iniciacao-cientifica-BCI/blob/main/Script_Iniciacao_Ramon.ipynb\" target=\"_parent\"><img src=\"https://colab.research.google.com/assets/colab-badge.svg\" alt=\"Open In Colab\"/></a>"
      ]
    },
    {
      "cell_type": "markdown",
      "metadata": {
        "id": "njFniULBRtgh"
      },
      "source": [
        "Autor:\n",
        "Ramon Fernandes Viana"
      ]
    },
    {
      "cell_type": "markdown",
      "metadata": {
        "id": "Fn9MPDXIoeGQ"
      },
      "source": [
        "#Implementação de um sistema BCI-SSVEP\n",
        "---\n",
        "\n"
      ]
    },
    {
      "cell_type": "markdown",
      "metadata": {
        "id": "YLb5zAw-R-RF"
      },
      "source": [
        "Este script faz parte da implementação das etapas de construção de uma BCI (Brain Computer Interface).\n",
        "\n",
        "Este trabalho contém as seguintes partes: Entrada de dados, Pré-Processamento, Estração de Características, Seleção de Características e Classificação\n",
        "\n"
      ]
    },
    {
      "cell_type": "markdown",
      "metadata": {
        "id": "93OVu7NvT9pN"
      },
      "source": [
        "A base de dados utilizada neste trabalho pode ser acessada pelo link:\n",
        "http://bci.med.tsinghua.edu.cn/download.html"
      ]
    },
    {
      "cell_type": "code",
      "execution_count": 1,
      "metadata": {
        "id": "mtFQAlWCoU2C"
      },
      "outputs": [],
      "source": [
        "#Bibliotecas científicas\n",
        "import pandas as pd\n",
        "import numpy as np\n",
        "import matplotlib.pyplot as plt\n",
        "import scipy.io as sp\n",
        "import scipy.io as sio\n",
        "from scipy import signal\n",
        "from scipy.fft import fft\n",
        "import math \n",
        "import scipy.fftpack\n",
        "from numpy import array\n",
        "from scipy.io import loadmat\n",
        "from itertools import combinations \n",
        "import requests\n",
        "\n",
        "#Biblioteca de aprendizado de máquina\n",
        "from sklearn.model_selection import train_test_split\n",
        "from tensorflow import keras as tf\n",
        "from keras.models import Sequential\n",
        "from keras.layers.core import Dense, Dropout\n",
        "from sklearn.cross_decomposition import CCA\n",
        "from tensorflow.keras.optimizers import *\n"
      ]
    },
    {
      "cell_type": "markdown",
      "metadata": {
        "id": "9OK7MpKGshxe"
      },
      "source": [
        "##Importando a base de dados e selecionando os indivíduos"
      ]
    },
    {
      "cell_type": "code",
      "execution_count": 2,
      "metadata": {
        "colab": {
          "base_uri": "https://localhost:8080/"
        },
        "id": "4wMUVcR8VpCM",
        "outputId": "823087bc-b088-46c3-faf6-9f48430d65be"
      },
      "outputs": [
        {
          "output_type": "stream",
          "name": "stdout",
          "text": [
            "Drive already mounted at /content/gdrive; to attempt to forcibly remount, call drive.mount(\"/content/gdrive\", force_remount=True).\n"
          ]
        }
      ],
      "source": [
        "#Biblioteca para acessar o Google Drive\n",
        "from google.colab import drive\n",
        "\n",
        "#Endereço da base de dados no Google Drive\n",
        "path_database = '/content/gdrive/MyDrive/IC_Ramon/S34.mat'\n",
        "# O sinal filtrado (CAR) para o indivíduo 34 está em:\n",
        "# /content/gdrive/MyDrive/Colab Notebooks/Iniciação/Sinais_Filtrados/CAR/filtragem_CAR.mat\n",
        "\n",
        "# import os \n",
        "# path_database = '/content/gdrive/MyDrive/IC_Ramon/'\n",
        "# os.chdir(path_database)\n",
        "# !ls\n",
        "\n",
        "#Autoriza a leitura do Google Drive\n",
        "drive.mount('/content/gdrive')\n",
        "\n",
        "# O indivíduo testado -- 34          \n",
        "mat = sio.loadmat(path_database, verify_compressed_data_integrity=False) \n",
        "intDados = np.array(mat['data'])\n",
        "intDados = intDados[:,125:1375,:,:]\n",
        "\n",
        "# mat = sp.loadmat('/content/drive/MyDrive/IC_Ramon/S34.mat')\n",
        "# eegSignal = np.array(mat['data'])\n",
        "# eegSignal = eegSignal[:,125:1375,:,:]"
      ]
    },
    {
      "cell_type": "markdown",
      "metadata": {
        "id": "llQsMRFgNrSt"
      },
      "source": [
        "#Função para baixar todos os indivíduos presentes na base"
      ]
    },
    {
      "cell_type": "code",
      "execution_count": 3,
      "metadata": {
        "id": "JphXuKNsK2fU"
      },
      "outputs": [],
      "source": [
        "# import requests\n",
        "\n",
        "# def get_baixa_dados(sujeito: str):\n",
        "#   url = f'http://bci.med.tsinghua.edu.cn/download.html/{sujeito}.zip'\n",
        "#   r = requests.get(url, allow_redirects=True)\n",
        "\n",
        "#   with open(f'{sujeito}.zip', 'wb') as zf:\n",
        "#         zf.write(requests.get(url).content)\n",
        "\n",
        "# get_baixa_dados('S1.mat')        "
      ]
    },
    {
      "cell_type": "markdown",
      "metadata": {
        "id": "SClMJ-sZwfPB"
      },
      "source": [
        "#Parâmentros e variáveis auxiliares"
      ]
    },
    {
      "cell_type": "code",
      "execution_count": 4,
      "metadata": {
        "colab": {
          "base_uri": "https://localhost:8080/"
        },
        "id": "wHF3WOY786lH",
        "outputId": "0cc95dad-6be8-4022-885f-b2abf7af7ac4"
      },
      "outputs": [
        {
          "output_type": "stream",
          "name": "stdout",
          "text": [
            "(192, 480)\n"
          ]
        }
      ],
      "source": [
        "# Parâmetros de entrada\n",
        "# conforme definido no artigo, o sinal coletado tem duração de 6s no entanto os 0,5s iniciais e finais são desconsiderados\n",
        "# intDados = data[:,125:1375,:,:]\n",
        "rows,cols,freqs,trials = intDados.shape\n",
        "freqList = [0, 2, 4, 7]\n",
        "freqReal = np.array([8, 10, 12, 15])\n",
        "numFreq = len(freqList)\n",
        "# Frequência de Amostragem\n",
        "Fs = 250\n",
        "resEsp = Fs/1250\n",
        "freq = np.arange(1250)*(resEsp)\n",
        "# vetor de tempo\n",
        "time = np.arange(1250)*1/Fs\n",
        "\n",
        "#Número de seções\n",
        "numSecoes = 6\n",
        "\n",
        "#Duração de cada sinal em segundos\n",
        "tTotal=5\n",
        "\n",
        "#Tamanho do janelamento\n",
        "T=1\n",
        "\n",
        "# ordem do filtro\n",
        "ordemFiltro = 10\n",
        "\n",
        "#Número de canais\n",
        "#Para 64 utilizar a variável rows\n",
        "numEletrodos = 16\n",
        "\n",
        "# combCanais= list(combinations([46,47,48,54,55,56,60,61,62], 2)) \n",
        "combCanais= list(combinations([18, 26, 27, 28, 37, 46,47,48, 52, 54,55,56, 58 ,60,61,62], 2)) \n",
        "# NOVOS CANAIS: 18, 26, 27, 28, 37, 52, 58\n",
        "#janelas 0:250, 125:375, 250:500, 375:625, \n",
        "\n",
        "# taxa = Fs\\2\n",
        "# janela*taxa:janenas*taxa+Fs\n",
        "\n",
        "#número de janelas por sinal\n",
        "# numJanelas = int(tTotal/T)\n",
        "numJanelas = 8\n",
        "\n",
        "#Inicialização da matriz de atributos\n",
        "H_FFT = np.zeros((numJanelas*len(freqReal)*numSecoes,len(freqReal)*len(combCanais)))\n",
        "print(H_FFT.shape)"
      ]
    },
    {
      "cell_type": "code",
      "execution_count": 5,
      "metadata": {
        "colab": {
          "base_uri": "https://localhost:8080/"
        },
        "id": "bGbrDTYyhhS8",
        "outputId": "6e5d97d7-3b53-4ea2-e286-54c511890355"
      },
      "outputs": [
        {
          "output_type": "execute_result",
          "data": {
            "text/plain": [
              "150"
            ]
          },
          "metadata": {},
          "execution_count": 5
        }
      ],
      "source": [
        "taxa = int(Fs*0.6)\n",
        "taxa"
      ]
    },
    {
      "cell_type": "code",
      "execution_count": 6,
      "metadata": {
        "colab": {
          "base_uri": "https://localhost:8080/"
        },
        "id": "CJzO-qnf_vx0",
        "outputId": "4b9f9a6a-c0a8-48d0-81ce-be69f11f45f7"
      },
      "outputs": [
        {
          "output_type": "execute_result",
          "data": {
            "text/plain": [
              "120"
            ]
          },
          "metadata": {},
          "execution_count": 6
        }
      ],
      "source": [
        "len(combCanais)"
      ]
    },
    {
      "cell_type": "markdown",
      "metadata": {
        "id": "SdabuDDkwo7K"
      },
      "source": [
        "#Função para obter a matriz C\n"
      ]
    },
    {
      "cell_type": "markdown",
      "metadata": {
        "id": "litmFCXHyDdy"
      },
      "source": [
        "Os sinais observados em cada eletrodo idealmente podem ser escritos como uma soma de sinais senoidais, oscilando em uma determinada frequência"
      ]
    },
    {
      "cell_type": "code",
      "execution_count": 7,
      "metadata": {
        "id": "I3vhtJzpwnY-"
      },
      "outputs": [],
      "source": [
        "def matrizC(freqReal, numEntrada, ordemFiltro):\n",
        "  # o parâmetro numEntrada é definido na função filtro MVDR\n",
        "  COS = []\n",
        "  SEN = []\n",
        "  for f in freqReal:\n",
        "    COSpos = []\n",
        "    SENpos = []\n",
        "    for i in range(0, numEntrada):\n",
        "      # encontrando o vetor de cossenos que compõe a matriz C, este que varia de\n",
        "      # acordo com a ordem escolhida para o filtro\n",
        "      cos_Pos = np.zeros((numEntrada*ordemFiltro))\n",
        "      # cos_pos[i*ordemFiltro:(i*ordemFiltro) + ordemFiltro] = np.cos(2*np.pi*m*f/250)\n",
        "      cos_Pos[i*ordemFiltro:(i*ordemFiltro) + ordemFiltro] = np.cos(2*np.pi*ordemFiltro*f/250)\n",
        "      COSpos.append(cos_Pos)\n",
        "      # encontrando o vetor de senos que compõe a matriz C\n",
        "      sen_Pos = np.zeros((numEntrada*ordemFiltro))\n",
        "      sen_Pos[i*ordemFiltro:(i*ordemFiltro) + ordemFiltro] = np.sin(2*np.pi*ordemFiltro*f/250)\n",
        "      SENpos.append(sen_Pos)\n",
        "\n",
        "    # incremento do vetor principal\n",
        "    COS.append(COSpos)\n",
        "    SEN.append(SENpos)\n",
        "\n",
        "  COS = np.reshape(COS, (numEntrada*len(freqReal), numEntrada*ordemFiltro))\n",
        "  SEN = np.reshape(SEN, (numEntrada*len(freqReal), numEntrada*ordemFiltro))\n",
        "  \n",
        "  # Retorna a matriz C descrina na seção ...\n",
        "  C = np.concatenate((np.transpose(COS), np.transpose(SEN)), axis = -1)   \n",
        "  return C"
      ]
    },
    {
      "cell_type": "markdown",
      "metadata": {
        "id": "p68Nnjf76iOz"
      },
      "source": [
        "# Função que filtra o sinal com a técnica MVDR"
      ]
    },
    {
      "cell_type": "code",
      "execution_count": 8,
      "metadata": {
        "id": "p9qBDbUo6mtR"
      },
      "outputs": [],
      "source": [
        "def filtroMVDR(x1, x2, ordemFiltro, f, Fs):\n",
        "  nFreq = len(f) \n",
        "  # produzindo os sinais a partir do número de eletrodos e amostras \n",
        "  sinais = np.concatenate((np.expand_dims(x1, axis = 0),\n",
        "                           np.expand_dims(x2, axis = 0)))\n",
        "  \n",
        "  numEntrada = sinais.shape[0]\n",
        "\n",
        "  C = matrizC(freqReal, numEntrada, ordemFiltro)\n",
        "  # vetor que garante a coerência de UNS para o cosseno e ZEROS para o seno\n",
        "  g = np.concatenate((np.ones(numEntrada*len(f)), np.zeros(numEntrada*len(f))))\n",
        "\n",
        "  sinais = np.concatenate((sinais, sinais[:, -ordemFiltro:]), axis = -1)\n",
        "  X = []\n",
        "\n",
        "  for i in range(0, sinais.shape[-1]-ordemFiltro):\n",
        "    Xt = sinais[:, i:ordemFiltro+i]\n",
        "    # np.fliplr inverte a ordem dos elementos ao longo do eixo 1\n",
        "    Xt = np.fliplr(Xt)\n",
        "    # flatten retona uma cópia da matriz/vetor em outra dimensão\n",
        "    X.append(Xt.flatten())\n",
        " # entradas combinadas    \n",
        "  X = np.transpose(np.array(X))\n",
        "\n",
        "# Correlação\n",
        "  R = X @ np.transpose(X) \n",
        "  Rinv = np.linalg.pinv(R)  \n",
        "  # coeficientes do filtro\n",
        "  W = Rinv @ C @ np.linalg.pinv((np.transpose(C) @ Rinv @ C)) @ g\n",
        "\n",
        "  # saída correspondente a filtragem dos eletrodos combinados\n",
        "  yFiltrado = W @ X\n",
        "\n",
        "  return yFiltrado\n"
      ]
    },
    {
      "cell_type": "markdown",
      "metadata": {
        "id": "VaCHpvnbwJJK"
      },
      "source": [
        "##Encontrando as localizações de cada frequência"
      ]
    },
    {
      "cell_type": "code",
      "execution_count": 9,
      "metadata": {
        "colab": {
          "base_uri": "https://localhost:8080/"
        },
        "id": "pyi0eyzBsGin",
        "outputId": "bb54b7b5-cb63-48d8-8b55-9131c2725b3f"
      },
      "outputs": [
        {
          "output_type": "execute_result",
          "data": {
            "text/plain": [
              "array([[[ 8]],\n",
              "\n",
              "       [[10]],\n",
              "\n",
              "       [[12]],\n",
              "\n",
              "       [[15]]])"
            ]
          },
          "metadata": {},
          "execution_count": 9
        }
      ],
      "source": [
        "freqNew = np.arange(0,250,1)\n",
        "freqNew.shape\n",
        "def frequencias(freqNew,numFreq, freqReal):\n",
        "  binFreq = [0 for i in range(numFreq)]\n",
        "  for localizacao in range(numFreq):  \n",
        "    binFreq[localizacao] = np.where(freqNew == freqReal[localizacao]) \n",
        "  return binFreq  \n",
        "posicoesFreq = frequencias(freqNew,numFreq, freqReal)\n",
        "posicoesFreq = np.asarray(posicoesFreq)\n",
        "for i in range(numFreq):\n",
        "  posicoesFreq[i] = posicoesFreq[i].item() \n",
        "posicoesFreq  "
      ]
    },
    {
      "cell_type": "markdown",
      "metadata": {
        "id": "jmwcekXHtARV"
      },
      "source": [
        "##Extração de Características - Análise com a FFT"
      ]
    },
    {
      "cell_type": "code",
      "execution_count": 10,
      "metadata": {
        "colab": {
          "base_uri": "https://localhost:8080/"
        },
        "id": "PchAaXhSTvwo",
        "outputId": "dfe603b3-ab3b-482a-8365-7aeb083c093d"
      },
      "outputs": [
        {
          "output_type": "execute_result",
          "data": {
            "text/plain": [
              "(64, 1250, 40, 6)"
            ]
          },
          "metadata": {},
          "execution_count": 10
        }
      ],
      "source": [
        "intDados.shape"
      ]
    },
    {
      "cell_type": "code",
      "execution_count": 11,
      "metadata": {
        "colab": {
          "base_uri": "https://localhost:8080/"
        },
        "id": "rREIy_4j0lk1",
        "outputId": "bb0578fe-22c2-47b3-e961-4db6a34b7337"
      },
      "outputs": [
        {
          "output_type": "execute_result",
          "data": {
            "text/plain": [
              "(250, 120)"
            ]
          },
          "metadata": {},
          "execution_count": 11
        }
      ],
      "source": [
        " saida_filtro = np.zeros((Fs,len(combCanais)))\n",
        " saida_filtro.shape"
      ]
    },
    {
      "cell_type": "code",
      "execution_count": 12,
      "metadata": {
        "id": "r-uGki1rgmye"
      },
      "outputs": [],
      "source": [
        "# matriz H - Extração com Método da FFT\n",
        "# H_FFT = np.zeros((janelas*numFreq*trials,numFreq*rows))\n",
        "H_AUX = np.zeros(numFreq)\n",
        "# número de janelas do sinal\n",
        "numJanelas                \n",
        "for freqs_sinal in range(0,numFreq):\n",
        "  for trial in range(0,trials):\n",
        "    for jan in range(numJanelas):\n",
        "      taxa = 150\n",
        "      # janela_inicio = jan*250*T\n",
        "      # janela_fim = janela_inicio+T*250\n",
        "      janela_inicio = jan*taxa\n",
        "      janela_fim = jan*taxa+Fs\n",
        "      # taxa = Fs\\2\n",
        "      # janela*taxa:janenas*taxa+Fs\n",
        "      # janela = np.arange(janela_inicio,janela_fim)\n",
        "      for canais in range (len(combCanais)):\n",
        "        tupleX = combCanais[canais]\n",
        "        x1 = tupleX[0]\n",
        "        x2 = tupleX[1]\n",
        "        # FFT =  np.abs(fft(int_dados[canais,janela,freqList[freqs_sinal],trial]))\n",
        "        yFiltrado = filtroMVDR(intDados[x1,janela_inicio:janela_fim ,freqList[freqs_sinal],trial],\n",
        "                               intDados[x2,janela_inicio:janela_fim ,freqList[freqs_sinal],trial],\n",
        "                               10,\n",
        "                               freqReal,\n",
        "                               250)\n",
        "        # saida_filtro[:,canais] =  yFiltrado\n",
        "        yFFT = np.abs(scipy.fftpack.fft(yFiltrado))\n",
        "\n",
        "        for indices in range(numFreq):\n",
        "          H_AUX[indices] = yFFT[T*freqReal[indices]]\n",
        "        H_FFT[trials*numJanelas*freqs_sinal+jan+(numJanelas *(trial)), \n",
        "                                  canais*numFreq:((canais+1)*numFreq)] = H_AUX\n",
        "    "
      ]
    },
    {
      "cell_type": "markdown",
      "metadata": {
        "id": "Mthzle0JnzrS"
      },
      "source": [
        "## Seleção de Atributos através do método de correlação de Pearson"
      ]
    },
    {
      "cell_type": "code",
      "execution_count": 13,
      "metadata": {
        "id": "PxGjXTBCl94q"
      },
      "outputs": [],
      "source": [
        "# SELECOA DE ATRIBUTOS COM PEARSON\n",
        "#*************************************************\n",
        "# A = np.array(H_FFT);  #matriz de características\n",
        "# uns_pos = np.ones((numJanelas *trials,rows))\n",
        "# uns_neg = -np.ones((numJanelas *trials,rows))\n",
        "\n",
        "# Vet_1 = np.array(np.vstack((uns_pos,uns_neg,uns_pos,uns_neg)))\n",
        "# Vet_2 = np.array(np.vstack((uns_neg,uns_pos,uns_neg,uns_pos)))\n",
        "\n",
        "# B = np.array(np.hstack((Vet_1,Vet_2,Vet_1,Vet_2)));\n",
        "# B.shape"
      ]
    },
    {
      "cell_type": "markdown",
      "metadata": {
        "id": "i7uRnEkXn6iL"
      },
      "source": [
        "##Calculos dos eletrodos mais significativos para as frequências desejadas"
      ]
    },
    {
      "cell_type": "code",
      "execution_count": 14,
      "metadata": {
        "id": "JSSncAuql3cB"
      },
      "outputs": [],
      "source": [
        "# Vetor_R =  np.zeros((A.shape[1],B.shape[1]))\n",
        "\n",
        "# for freq in range (B.shape[1]):\n",
        "#   for ch in range (A.shape[1]):\n",
        "#     print(freq,ch)\n",
        "#     print(A[:,ch], B[:,freq])\n",
        "#     R = np.corrcoef(A[:,ch],B[:,freq])\n",
        "#     Vetor_R[ch,freq] = np.abs(R[1,0])\n",
        "\n",
        "# print(Vetor_R.shape)\n",
        "# indices_canais = np.argsort(Vetor_R, axis=0)[::-1]\n",
        "# print(indices_canais.shape)"
      ]
    },
    {
      "cell_type": "code",
      "execution_count": 15,
      "metadata": {
        "colab": {
          "base_uri": "https://localhost:8080/"
        },
        "id": "0KrfJC8Ddsnz",
        "outputId": "30026a11-8afe-4582-a48b-86bda0b0b300"
      },
      "outputs": [
        {
          "output_type": "execute_result",
          "data": {
            "text/plain": [
              "(192, 480)"
            ]
          },
          "metadata": {},
          "execution_count": 15
        }
      ],
      "source": [
        "H_FFT.shape"
      ]
    },
    {
      "cell_type": "markdown",
      "metadata": {
        "id": "44QgNM3GpDYT"
      },
      "source": [
        "# Classificador Linear"
      ]
    },
    {
      "cell_type": "markdown",
      "metadata": {
        "id": "dpbSKHu_pISL"
      },
      "source": [
        "## Matriz de rótulos"
      ]
    },
    {
      "cell_type": "code",
      "execution_count": 16,
      "metadata": {
        "colab": {
          "base_uri": "https://localhost:8080/"
        },
        "id": "97ZH6bljy3nQ",
        "outputId": "43ab8316-c287-47c1-8fe4-3e791e0e1f71"
      },
      "outputs": [
        {
          "output_type": "stream",
          "name": "stdout",
          "text": [
            "(192, 4)\n",
            "(192, 481)\n"
          ]
        }
      ],
      "source": [
        "# numero de amostras para a criação da matriz de rótulos\n",
        "numberSamples = int(len(H_FFT)/4)\n",
        "\n",
        "#Inicializa a matriz de rótulos\n",
        "trainingMatrix = np.zeros((numberSamples*numFreq,len(combCanais)*numFreq))\n",
        "\n",
        "#Cria matriz de rótulos inicializa com -1\n",
        "R = np.full((len(trainingMatrix), numFreq), -1)\n",
        "\n",
        "#Adiciona +1 nas posições corretas\n",
        "for frequency in range(numFreq):\n",
        "  for position in range(numberSamples):\n",
        "    R[(numberSamples*frequency)+position, frequency] = 1\n",
        "\n",
        "print(R.shape)\n",
        "\n",
        "uns = np.ones((len(H_FFT),1))\n",
        "# matriz atributos\n",
        "H = np.array(np.hstack((H_FFT,uns)))\n",
        "print(H.shape)\n",
        "\n",
        "  "
      ]
    },
    {
      "cell_type": "markdown",
      "metadata": {
        "id": "ZVBxD9oU33a-"
      },
      "source": [
        "Classificação"
      ]
    },
    {
      "cell_type": "markdown",
      "metadata": {
        "id": "vP6ep440-0hB"
      },
      "source": [
        "#Classificador Linear\n"
      ]
    },
    {
      "cell_type": "code",
      "execution_count": 17,
      "metadata": {
        "colab": {
          "base_uri": "https://localhost:8080/"
        },
        "id": "-VUF7liR4V9i",
        "outputId": "fdb86c74-e667-4c4f-97e2-e24e804a3fe7"
      },
      "outputs": [
        {
          "output_type": "stream",
          "name": "stdout",
          "text": [
            "Taxa de acerto por frequência:\n",
            "\n",
            "Frequência 0 (8Hz): 55.00000000000001%\n",
            "Frequência 1 (10Hz): 100.0%\n",
            "Frequência 2 (12Hz): 57.14285714285714%\n",
            "Frequência 3 (15Hz): 80.0%\n",
            "\n",
            "Desempenho total da BCI:\n",
            "\n",
            "73.03571428571428%\n"
          ]
        }
      ],
      "source": [
        "from sklearn.model_selection import train_test_split\n",
        "from sklearn import svm\n",
        "\n",
        "#Considerando as matrizes com os dados em H e a matriz de rótulos R - equivalente ao código inicial do Matlab\n",
        "#Particionar os dados usando 20% para validacao\n",
        "Ht, Hv, Rt, Rv = train_test_split(H, R, test_size = 0.20)\n",
        "\n",
        "#SVM - treinando\n",
        "# SEED = 50\n",
        "# np.random.seed(SEED)\n",
        "Y = svm.SVC(kernel='linear').fit(Ht, Rt[:,0]).predict(Hv)\n",
        "for frequency in range(1,numFreq):\n",
        "  modelo= svm.SVC(kernel='linear').fit(Ht, Rt[:,frequency])\n",
        "  Y_Aux = modelo.predict(Hv)\n",
        "  Y = np.vstack([Y,Y_Aux])\n",
        "\n",
        "Y = Y.transpose()\n",
        "index = np.argmax(Y, axis=1)\n",
        "index2 = np.argmax(Rv, axis=1)\n",
        "\n",
        "# contando os acertos\n",
        "cont_corretos = [0 for i in range(numFreq)]\n",
        "num_index = [0 for i in range(numFreq)]\n",
        "acuracia =  [0 for i in range(numFreq)]\n",
        "\n",
        "for i in range(len(Rv)):\n",
        "    #if((Y[i,:]==Rv[i,:])):\n",
        "  if (index[i] == 0 and index2[i] == 0):\n",
        "    cont_corretos[0] = cont_corretos[0] + 1   \n",
        "  elif (index[i] == 1 and index2[i] == 1):   \n",
        "    cont_corretos[1] = cont_corretos[1] + 1\n",
        "  elif (index[i] == 2 and index2[i] == 2):\n",
        "    cont_corretos[2] = cont_corretos[2] + 1\n",
        "  elif (index[i] == 3 and index2[i] == 3):\n",
        "    cont_corretos[3] = cont_corretos[3] + 1    \n",
        "\n",
        "# plotando a taxa de acerto final para cada frequência\n",
        "print(\"Taxa de acerto por frequência:\\n\")\n",
        "for soma in range(numFreq):\n",
        "  num_index[soma] = sum(index == soma)        \n",
        "  acuracia[soma] =  (cont_corretos[soma]/num_index[soma])*100\n",
        "  print('Frequência {label} ({numfreq}Hz): {acerto}%'.format(label = soma, numfreq = freqReal[soma], acerto = acuracia[soma]))\n",
        "\n",
        "print(\"\\nDesempenho total da BCI:\\n\")\n",
        "desem_total = (sum(acuracia)/numFreq)\n",
        "print('{desempenho}%'.format(desempenho =desem_total))"
      ]
    },
    {
      "cell_type": "markdown",
      "metadata": {
        "id": "N5rCMxNyxfsO"
      },
      "source": [
        "Validação do Classificador Linear"
      ]
    },
    {
      "cell_type": "code",
      "execution_count": 18,
      "metadata": {
        "id": "_xZxXiiztfaM"
      },
      "outputs": [],
      "source": [
        "from sklearn.model_selection import cross_validate\n",
        "from sklearn.model_selection import KFold"
      ]
    },
    {
      "cell_type": "code",
      "execution_count": 19,
      "metadata": {
        "colab": {
          "base_uri": "https://localhost:8080/"
        },
        "id": "vwVwK8JKt5Pf",
        "outputId": "c4255130-48fe-409f-e8ec-24c5d4a6a981"
      },
      "outputs": [
        {
          "output_type": "stream",
          "name": "stdout",
          "text": [
            "Accuracy médio freq (8Hz): 88.56950067476383%\n",
            "Accuracy intervalo: [82.53, 94.61]\n",
            "Accuracy médio freq (10Hz): 89.06882591093117%\n",
            "Accuracy intervalo: [85.24, 92.90]\n",
            "Accuracy médio freq (12Hz): 89.5681511470985%\n",
            "Accuracy intervalo: [83.72, 95.41]\n",
            "Accuracy médio freq (15Hz): 84.87179487179488%\n",
            "Accuracy intervalo: [80.64, 89.10]\n"
          ]
        }
      ],
      "source": [
        "modelot= svm.SVC(kernel='linear')\n",
        "cv = KFold(n_splits=5, shuffle= True)\n",
        "for frequency in range(numFreq):\n",
        "  results = cross_validate(modelot,H_FFT, R[:,frequency], cv = cv, return_train_score=False)\n",
        "  mean = results['test_score'].mean()\n",
        "  desvioPadrao = results['test_score'].std()\n",
        "  print('Accuracy médio freq ({numfreq}Hz): {acerto}%' .format(numfreq = freqReal[frequency], acerto = mean*100))\n",
        "  print('Accuracy intervalo: [%.2f, %.2f]' %((mean - 2*desvioPadrao)*100, (mean + 2*desvioPadrao)*100))"
      ]
    },
    {
      "cell_type": "markdown",
      "metadata": {
        "id": "3oD8WwUtN24b"
      },
      "source": [
        "#Rede Neural Convulocional (CNN)"
      ]
    },
    {
      "cell_type": "code",
      "execution_count": 20,
      "metadata": {
        "colab": {
          "base_uri": "https://localhost:8080/"
        },
        "id": "reQSuJGiyIY2",
        "outputId": "783bd0cd-9a32-4d04-95d1-90ad871e80f4"
      },
      "outputs": [
        {
          "output_type": "execute_result",
          "data": {
            "text/plain": [
              "(192, 4)"
            ]
          },
          "metadata": {},
          "execution_count": 20
        }
      ],
      "source": [
        "# alterando a matriz de rótulos (no lugar de -1 vai passar a ser 1)\n",
        "R_CNN = np.where(R == 1, R, 0)\n",
        "R_CNN.shape"
      ]
    },
    {
      "cell_type": "code",
      "execution_count": 21,
      "metadata": {
        "id": "gX3brAFDczC4"
      },
      "outputs": [],
      "source": [
        "from sklearn.preprocessing import MinMaxScaler\n",
        "from sklearn.preprocessing import StandardScaler"
      ]
    },
    {
      "cell_type": "code",
      "execution_count": 22,
      "metadata": {
        "colab": {
          "base_uri": "https://localhost:8080/"
        },
        "id": "g3eQBxRSk0D2",
        "outputId": "a35afcf7-4108-4d56-e8e1-1aeedc1fd156"
      },
      "outputs": [
        {
          "output_type": "execute_result",
          "data": {
            "text/plain": [
              "(192, 480)"
            ]
          },
          "metadata": {},
          "execution_count": 22
        }
      ],
      "source": [
        "scaler = StandardScaler()\n",
        "scaler.fit(H_FFT)\n",
        "scaled = scaler.transform(H_FFT)\n",
        "scaled.shape"
      ]
    },
    {
      "cell_type": "code",
      "execution_count": 23,
      "metadata": {
        "id": "YwSupiazYRNc"
      },
      "outputs": [],
      "source": [
        "# scaler = MinMaxScaler()\n",
        "# scaled = scaler.fit_transform(H_FFT)\n",
        "# scaled.shape"
      ]
    },
    {
      "cell_type": "code",
      "execution_count": 24,
      "metadata": {
        "colab": {
          "base_uri": "https://localhost:8080/"
        },
        "id": "hb8m370lRBUD",
        "outputId": "38b2e0db-c396-4b1c-bf88-912e6a186cb0"
      },
      "outputs": [
        {
          "output_type": "stream",
          "name": "stdout",
          "text": [
            "(144, 480, 1)\n",
            "(48, 480, 1)\n",
            "(144, 4)\n",
            "(48, 4)\n"
          ]
        }
      ],
      "source": [
        "xtrain, xtest, ytrain, ytest = train_test_split(scaled, R_CNN, test_size = 0.25)\n",
        "xtrain = np.reshape(xtrain, (144,480,1))\n",
        "ytrain = np.reshape(ytrain, (144,4))\n",
        "xtest = np.reshape(xtest, (48,480,1))\n",
        "ytest = np.reshape(ytest, (48,4))\n",
        "# xtrain = np.reshape(xtrain, (90,144,1))\n",
        "# ytrain = np.reshape(ytrain, (90,4))\n",
        "# xtest = np.reshape(xtest, (30,144,1))\n",
        "# ytest = np.reshape(ytest, (30,4))\n",
        "print(xtrain.shape)\n",
        "print(xtest.shape)\n",
        "print(ytrain.shape)\n",
        "print( ytest.shape)"
      ]
    },
    {
      "cell_type": "code",
      "execution_count": 25,
      "metadata": {
        "colab": {
          "base_uri": "https://localhost:8080/"
        },
        "id": "st4kdVB8Vac7",
        "outputId": "12eb937f-f352-49b4-b00f-f441bf34cef0"
      },
      "outputs": [
        {
          "output_type": "stream",
          "name": "stdout",
          "text": [
            "480\n",
            "1\n",
            "4\n"
          ]
        }
      ],
      "source": [
        "n_features, reshape_input, n_outputs = xtrain.shape[1], xtrain.shape[2], R_CNN.shape[1]\n",
        "print(n_features)\n",
        "print(reshape_input)\n",
        "print(n_outputs)"
      ]
    },
    {
      "cell_type": "code",
      "execution_count": 26,
      "metadata": {
        "id": "uNBkUUUpDa1F"
      },
      "outputs": [],
      "source": [
        "# from tensorflow.keras.utils import to_categorical"
      ]
    },
    {
      "cell_type": "code",
      "execution_count": 27,
      "metadata": {
        "id": "dukuTIakeOZ6"
      },
      "outputs": [],
      "source": [
        "# o input shape assume a mesma dimensão da matriz de atributos\n",
        "input_shape = (n_features,1)\n",
        "tamFiltro = 110\n",
        "# 48 tam ideial\n",
        "# kernel_size: An integer or tuple/list of a single integer, specifying the length of the 1D convolution window.\n",
        "tamKernel = 10\n",
        "# 10 tam ideial\n",
        "numItens = 4\n"
      ]
    },
    {
      "cell_type": "code",
      "execution_count": 28,
      "metadata": {
        "id": "ZD38gdqj_9nE"
      },
      "outputs": [],
      "source": [
        "from tensorflow.keras.models import Sequential\n",
        "from tensorflow.keras.layers import Dense, Conv1D, Flatten, MaxPooling1D, AveragePooling1D, GlobalAveragePooling1D, BatchNormalization\n",
        "\n",
        "# selu, elu, sigmoid, softplus, softsign,"
      ]
    },
    {
      "cell_type": "code",
      "execution_count": 29,
      "metadata": {
        "id": "ZSQbXE-q5aOQ",
        "colab": {
          "base_uri": "https://localhost:8080/",
          "height": 942
        },
        "outputId": "5da28167-8b3a-425e-84f3-5b76e9db6c8b"
      },
      "outputs": [
        {
          "output_type": "stream",
          "name": "stdout",
          "text": [
            "Model: \"sequential\"\n",
            "_________________________________________________________________\n",
            " Layer (type)                Output Shape              Param #   \n",
            "=================================================================\n",
            " conv1d (Conv1D)             (None, 471, 110)          1210      \n",
            "                                                                 \n",
            " conv1d_1 (Conv1D)           (None, 462, 110)          121110    \n",
            "                                                                 \n",
            " batch_normalization (BatchN  (None, 462, 110)         1848      \n",
            " ormalization)                                                   \n",
            "                                                                 \n",
            " average_pooling1d (AverageP  (None, 231, 110)         0         \n",
            " ooling1D)                                                       \n",
            "                                                                 \n",
            " dropout (Dropout)           (None, 231, 110)          0         \n",
            "                                                                 \n",
            " flatten (Flatten)           (None, 25410)             0         \n",
            "                                                                 \n",
            " dense (Dense)               (None, 1000)              25411000  \n",
            "                                                                 \n",
            " dense_1 (Dense)             (None, 100)               100100    \n",
            "                                                                 \n",
            " dropout_1 (Dropout)         (None, 100)               0         \n",
            "                                                                 \n",
            " dense_2 (Dense)             (None, 4)                 404       \n",
            "                                                                 \n",
            "=================================================================\n",
            "Total params: 25,635,672\n",
            "Trainable params: 25,634,748\n",
            "Non-trainable params: 924\n",
            "_________________________________________________________________\n"
          ]
        },
        {
          "output_type": "display_data",
          "data": {
            "image/png": "[encoded data removed]",
            "text/plain": [
              "<Figure size 576x432 with 1 Axes>"
            ]
          },
          "metadata": {
            "needs_background": "light"
          }
        }
      ],
      "source": [
        "# topologia MELHOR RESULTADO 9 CANAIS\n",
        "model = Sequential()\n",
        "model.add(Conv1D(filters=tamFiltro, kernel_size=tamKernel, activation='tanh', input_shape=(input_shape)))\n",
        "model.add(Conv1D(filters=tamFiltro, kernel_size=tamKernel, activation='tanh'))\n",
        "# model.add(Conv1D(filters=tamFiltro, kernel_size=tamKernel, activation='relu'))\n",
        "# model.add(MaxPooling1D())\n",
        "# model.add(AveragePooling1D())\n",
        "# model.add(Conv1D(filters=tamFiltro, kernel_size=tamKernel, activation='tanh'))\n",
        "# model.add(Conv1D(filters=tamFiltro, kernel_size=tamKernel, activation='tanh'))\n",
        "# model.add(Conv1D(filters=tamFiltro, kernel_size=tamKernel, activation='tanh'))\n",
        "\n",
        "# model.add(AveragePooling1D())\n",
        "model.add(BatchNormalization(axis=1))\n",
        "model.add(AveragePooling1D(pool_size=2, padding='same'))\n",
        "model.add(Dropout(0.3))\n",
        "# model.add(Dropout(0.3))\n",
        "# model.add(MaxPooling1D(pool_size=3, padding='same')),    \n",
        "# model.add(Conv1D(filters=tamFiltro, kernel_size=tamKernel, activation='tanh'))\n",
        "# # model.add(Conv1D(filters=tamFiltro, kernel_size=tamKernel, activation='tanh'))\n",
        "\n",
        "# model.add(BatchNormalization(axis=1))\n",
        "# model.add(AveragePooling1D(pool_size=2, padding='same'))\n",
        "# model.add(Dropout(0.45))\n",
        "#       # MaxPooling1D(), \n",
        " # taxa de aprendizagem\n",
        "# model.add(MaxPooling1D(pool_size=2))\n",
        "model.add(Flatten())\n",
        "model.add(Dense(1000, activation='tanh'))\n",
        "model.add(Dense(100, activation='tanh'))\n",
        "model.add(Dropout(0.1))\n",
        "model.add(Dense(n_outputs, activation='softmax'))\n",
        "model.summary()\n",
        "# model.add(Flatten())\n",
        "model.compile(optimizer=SGD(learning_rate = 0.07),              \n",
        "              loss='categorical_crossentropy',\n",
        "              metrics=['categorical_accuracy'])\n",
        "# Accuracy\n",
        "# categorical_accuracy'\n",
        "# categorical_crossentropy\n",
        "history = model.fit(xtrain, ytrain, epochs= 600, verbose = 0,validation_data=(xtest, ytest))\n",
        "plt.figure(figsize=(8, 6))\n",
        "plt.plot(history.history['categorical_accuracy'])\n",
        "plt.plot(history.history['val_categorical_accuracy'])\n",
        "plt.title('Acurácia do modelo')\n",
        "plt.ylabel('Acurácia')\n",
        "plt.xlabel('Epoch')\n",
        "plt.legend(['treinamento', 'validação'], loc='upper left')\n",
        "plt.show()"
      ]
    },
    {
      "cell_type": "code",
      "execution_count": 30,
      "metadata": {
        "id": "A4zM2MQDYKVy"
      },
      "outputs": [],
      "source": [
        "# topologia MELHOR RESULTADO 9 CANAIS\n",
        "# model = Sequential()\n",
        "# model.add(Conv1D(filters=tamFiltro, kernel_size=tamKernel, activation='tanh', input_shape=(input_shape)))\n",
        "# model.add(Conv1D(filters=tamFiltro, kernel_size=tamKernel, activation='tanh'))\n",
        "# # model.add(Conv1D(filters=tamFiltro, kernel_size=tamKernel, activation='relu'))\n",
        "# # model.add(MaxPooling1D())\n",
        "# # model.add(AveragePooling1D())\n",
        "# # model.add(Conv1D(filters=tamFiltro, kernel_size=tamKernel, activation='tanh'))\n",
        "# # model.add(Conv1D(filters=tamFiltro, kernel_size=tamKernel, activation='tanh'))\n",
        "# # model.add(Conv1D(filters=tamFiltro, kernel_size=tamKernel, activation='tanh'))\n",
        "\n",
        "# # model.add(AveragePooling1D())\n",
        "# model.add(BatchNormalization(axis=1))\n",
        "# model.add(AveragePooling1D(pool_size=2, padding='same'))\n",
        "# model.add(Dropout(0.3))\n",
        "# # model.add(Dropout(0.3))\n",
        "# # model.add(MaxPooling1D(pool_size=3, padding='same')),    \n",
        "# # model.add(Conv1D(filters=tamFiltro, kernel_size=tamKernel, activation='tanh'))\n",
        "# # # model.add(Conv1D(filters=tamFiltro, kernel_size=tamKernel, activation='tanh'))\n",
        "\n",
        "# # model.add(BatchNormalization(axis=1))\n",
        "# # model.add(AveragePooling1D(pool_size=2, padding='same'))\n",
        "# # model.add(Dropout(0.45))\n",
        "# #       # MaxPooling1D(), \n",
        "#  # taxa de aprendizagem\n",
        "# # model.add(MaxPooling1D(pool_size=2))\n",
        "# model.add(Flatten())\n",
        "# model.add(Dense(1000, activation='tanh'))\n",
        "# model.add(Dense(100, activation='tanh'))\n",
        "# model.add(Dropout(0.1))\n",
        "# model.add(Dense(n_outputs, activation='softmax'))\n",
        "# model.summary()\n",
        "# # model.add(Flatten())\n",
        "# model.compile(optimizer=SGD(learning_rate = 0.05),              \n",
        "#               loss='categorical_crossentropy',\n",
        "#               metrics=['categorical_accuracy'])\n",
        "# # Accuracy\n",
        "# # categorical_accuracy'\n",
        "# # categorical_crossentropy\n",
        "# history = model.fit(xtrain, ytrain, epochs= 600, verbose = 0,validation_data=(xtest, ytest))\n",
        "# plt.figure(figsize=(8, 6))\n",
        "# plt.plot(history.history['categorical_accuracy'])\n",
        "# plt.plot(history.history['val_categorical_accuracy'])\n",
        "# plt.title('Acurácia do modelo')\n",
        "# plt.ylabel('Acurácia')\n",
        "# plt.xlabel('Epoch')\n",
        "# plt.legend(['treinamento', 'validação'], loc='upper left')\n",
        "# plt.show()"
      ]
    },
    {
      "cell_type": "code",
      "execution_count": 31,
      "metadata": {
        "colab": {
          "base_uri": "https://localhost:8080/",
          "height": 942
        },
        "id": "vq3z2lcKr1NR",
        "outputId": "45b32685-4ea6-4647-885f-483caf7fbb69"
      },
      "outputs": [
        {
          "output_type": "stream",
          "name": "stdout",
          "text": [
            "Model: \"sequential_1\"\n",
            "_________________________________________________________________\n",
            " Layer (type)                Output Shape              Param #   \n",
            "=================================================================\n",
            " conv1d_2 (Conv1D)           (None, 471, 110)          1210      \n",
            "                                                                 \n",
            " conv1d_3 (Conv1D)           (None, 462, 110)          121110    \n",
            "                                                                 \n",
            " batch_normalization_1 (Batc  (None, 462, 110)         1848      \n",
            " hNormalization)                                                 \n",
            "                                                                 \n",
            " average_pooling1d_1 (Averag  (None, 462, 110)         0         \n",
            " ePooling1D)                                                     \n",
            "                                                                 \n",
            " dropout_2 (Dropout)         (None, 462, 110)          0         \n",
            "                                                                 \n",
            " flatten_1 (Flatten)         (None, 50820)             0         \n",
            "                                                                 \n",
            " dense_3 (Dense)             (None, 1000)              50821000  \n",
            "                                                                 \n",
            " dense_4 (Dense)             (None, 100)               100100    \n",
            "                                                                 \n",
            " dropout_3 (Dropout)         (None, 100)               0         \n",
            "                                                                 \n",
            " dense_5 (Dense)             (None, 4)                 404       \n",
            "                                                                 \n",
            "=================================================================\n",
            "Total params: 51,045,672\n",
            "Trainable params: 51,044,748\n",
            "Non-trainable params: 924\n",
            "_________________________________________________________________\n"
          ]
        },
        {
          "output_type": "display_data",
          "data": {
            "image/png": "[encoded data removed]",
            "text/plain": [
              "<Figure size 576x432 with 1 Axes>"
            ]
          },
          "metadata": {
            "needs_background": "light"
          }
        }
      ],
      "source": [
        "# topologia\n",
        "model = Sequential()\n",
        "model.add(Conv1D(filters=tamFiltro, kernel_size=tamKernel, activation='tanh', input_shape=(input_shape)))\n",
        "model.add(Conv1D(filters=tamFiltro, kernel_size=tamKernel, activation='tanh'))\n",
        "# model.add(Conv1D(filters=tamFiltro, kernel_size=tamKernel, activation='relu'))\n",
        "# model.add(MaxPooling1D())\n",
        "# model.add(AveragePooling1D())\n",
        "# model.add(Conv1D(filters=tamFiltro, kernel_size=tamKernel, activation='tanh'))\n",
        "# model.add(Conv1D(filters=tamFiltro, kernel_size=tamKernel, activation='tanh'))\n",
        "# model.add(Conv1D(filters=tamFiltro, kernel_size=tamKernel, activation='tanh'))\n",
        "\n",
        "# model.add(AveragePooling1D())\n",
        "model.add(BatchNormalization(axis=1))\n",
        "model.add(AveragePooling1D(pool_size=1, padding='same'))\n",
        "model.add(Dropout(0.3))\n",
        "# model.add(Dropout(0.3))\n",
        "# model.add(MaxPooling1D(pool_size=3, padding='same')),    \n",
        "# model.add(Conv1D(filters=tamFiltro, kernel_size=tamKernel, activation='tanh'))\n",
        "# # model.add(Conv1D(filters=tamFiltro, kernel_size=tamKernel, activation='tanh'))\n",
        "\n",
        "# model.add(BatchNormalization(axis=1))\n",
        "# model.add(AveragePooling1D(pool_size=2, padding='same'))\n",
        "# model.add(Dropout(0.45))\n",
        "#       # MaxPooling1D(), \n",
        " # taxa de aprendizagem\n",
        "# model.add(MaxPooling1D(pool_size=2))\n",
        "model.add(Flatten())\n",
        "model.add(Dense(1000, activation='tanh'))\n",
        "model.add(Dense(100, activation='tanh'))\n",
        "model.add(Dropout(0.1))\n",
        "model.add(Dense(n_outputs, activation='softmax'))\n",
        "model.summary()\n",
        "# model.add(Flatten())\n",
        "model.compile(optimizer=SGD(learning_rate = 0.009),              \n",
        "              loss='categorical_crossentropy',\n",
        "              metrics=['categorical_accuracy'])\n",
        "# Accuracy\n",
        "# categorical_accuracy'\n",
        "# categorical_crossentropy\n",
        "history = model.fit(xtrain, ytrain, epochs= 600, verbose = 0,validation_data=(xtest, ytest))\n",
        "plt.figure(figsize=(8, 6))\n",
        "plt.plot(history.history['categorical_accuracy'])\n",
        "plt.plot(history.history['val_categorical_accuracy'])\n",
        "plt.title('Acurácia do modelo')\n",
        "plt.ylabel('Acurácia')\n",
        "plt.xlabel('Epoch')\n",
        "plt.legend(['treinamento', 'validação'], loc='upper left')\n",
        "plt.show()"
      ]
    },
    {
      "cell_type": "code",
      "execution_count": 32,
      "metadata": {
        "colab": {
          "base_uri": "https://localhost:8080/"
        },
        "id": "9TMYG03H8ku4",
        "outputId": "50f859cc-8d99-4618-fbdd-7f9d11267080"
      },
      "outputs": [
        {
          "output_type": "stream",
          "name": "stdout",
          "text": [
            "2/2 [==============================] - 0s 104ms/step - loss: 0.3271 - categorical_accuracy: 0.8333\n"
          ]
        },
        {
          "output_type": "execute_result",
          "data": {
            "text/plain": [
              "[0.3271436393260956, 0.8333333134651184]"
            ]
          },
          "metadata": {},
          "execution_count": 32
        }
      ],
      "source": [
        "model.evaluate(xtest, ytest)"
      ]
    },
    {
      "cell_type": "code",
      "execution_count": 33,
      "metadata": {
        "colab": {
          "base_uri": "https://localhost:8080/",
          "height": 942
        },
        "id": "GKuUvQVEYITv",
        "outputId": "16c477b6-d89e-4982-de98-7bf72a8402cf"
      },
      "outputs": [
        {
          "output_type": "stream",
          "name": "stdout",
          "text": [
            "Model: \"sequential_2\"\n",
            "_________________________________________________________________\n",
            " Layer (type)                Output Shape              Param #   \n",
            "=================================================================\n",
            " conv1d_4 (Conv1D)           (None, 471, 110)          1210      \n",
            "                                                                 \n",
            " conv1d_5 (Conv1D)           (None, 462, 110)          121110    \n",
            "                                                                 \n",
            " batch_normalization_2 (Batc  (None, 462, 110)         1848      \n",
            " hNormalization)                                                 \n",
            "                                                                 \n",
            " average_pooling1d_2 (Averag  (None, 231, 110)         0         \n",
            " ePooling1D)                                                     \n",
            "                                                                 \n",
            " dropout_4 (Dropout)         (None, 231, 110)          0         \n",
            "                                                                 \n",
            " flatten_2 (Flatten)         (None, 25410)             0         \n",
            "                                                                 \n",
            " dense_6 (Dense)             (None, 1000)              25411000  \n",
            "                                                                 \n",
            " dense_7 (Dense)             (None, 100)               100100    \n",
            "                                                                 \n",
            " dropout_5 (Dropout)         (None, 100)               0         \n",
            "                                                                 \n",
            " dense_8 (Dense)             (None, 4)                 404       \n",
            "                                                                 \n",
            "=================================================================\n",
            "Total params: 25,635,672\n",
            "Trainable params: 25,634,748\n",
            "Non-trainable params: 924\n",
            "_________________________________________________________________\n"
          ]
        },
        {
          "output_type": "display_data",
          "data": {
            "image/png": "[encoded data removed]",
            "text/plain": [
              "<Figure size 576x432 with 1 Axes>"
            ]
          },
          "metadata": {
            "needs_background": "light"
          }
        }
      ],
      "source": [
        "# topologia\n",
        "model = Sequential()\n",
        "model.add(Conv1D(filters=tamFiltro, kernel_size=tamKernel, activation='tanh', input_shape=(input_shape)))\n",
        "model.add(Conv1D(filters=tamFiltro, kernel_size=tamKernel, activation='tanh'))\n",
        "model.add(BatchNormalization(axis=1))\n",
        "model.add(AveragePooling1D(pool_size=2, padding='same'))\n",
        "model.add(Dropout(0.5))\n",
        "model.add(Flatten())\n",
        "model.add(Dense(1000, activation='tanh'))\n",
        "model.add(Dense(100, activation='tanh'))\n",
        "model.add(Dropout(0.1))\n",
        "model.add(Dense(n_outputs, activation='softmax'))\n",
        "model.summary()\n",
        "model.compile(optimizer=SGD(learning_rate = 0.015),              \n",
        "              loss='categorical_crossentropy',\n",
        "              metrics=['categorical_accuracy'])\n",
        "# Accuracy\n",
        "# categorical_accuracy'\n",
        "# categorical_crossentropy\n",
        "history = model.fit(xtrain, ytrain, epochs= 600, verbose = 0,validation_data=(xtest, ytest))\n",
        "plt.figure(figsize=(8, 6))\n",
        "plt.plot(history.history['categorical_accuracy'])\n",
        "plt.plot(history.history['val_categorical_accuracy'])\n",
        "plt.title('Acurácia do modelo')\n",
        "plt.ylabel('Acurácia')\n",
        "plt.xlabel('Epoch')\n",
        "plt.legend(['treinamento', 'validação'], loc='upper left')\n",
        "plt.show()"
      ]
    },
    {
      "cell_type": "markdown",
      "metadata": {
        "id": "hp81PHPDU0hN"
      },
      "source": [
        "Accuracy metrics\n",
        "\n",
        "* Accuracy class\n",
        "* BinaryAccuracy class\n",
        "* CategoricalAccuracy class\n",
        "* SparseCategoricalAccuracy class\n",
        "* TopKCategoricalAccuracy class\n",
        "* SparseTopKCategoricalAccuracy class\n",
        "\n",
        "Probabilistic metrics\n",
        "\n",
        "* BinaryCrossentropy class\n",
        "* CategoricalCrossentropy class\n",
        "* SparseCategoricalCrossentropy class\n",
        "* KLDivergence class\n",
        "* Poisson class"
      ]
    },
    {
      "cell_type": "markdown",
      "metadata": {
        "id": "9QJi4ucjU6X1"
      },
      "source": [
        "Available losses\n",
        "\n",
        "* BinaryCrossentropy class\n",
        "* CategoricalCrossentropy class\n",
        "* SparseCategoricalCrossentropy class\n",
        "* Poisson class\n",
        "* binary_crossentropy function\n",
        "* categorical_crossentropy function\n",
        "* "
      ]
    }
  ],
  "metadata": {
    "colab": {
      "collapsed_sections": [],
      "name": "Script_Iniciacao_Ramon.ipynb",
      "provenance": [],
      "include_colab_link": true
    },
    "kernelspec": {
      "display_name": "Python 3",
      "name": "python3"
    },
    "language_info": {
      "name": "python"
    }
  },
  "nbformat": 4,
  "nbformat_minor": 0
}