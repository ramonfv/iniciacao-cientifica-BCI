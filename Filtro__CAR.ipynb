{
  "nbformat": 4,
  "nbformat_minor": 0,
  "metadata": {
    "colab": {
      "name": "Filtro__CAR.ipynb",
      "provenance": [],
      "collapsed_sections": [],
      "mount_file_id": "11Qw732h6FaGsKinE0eq-_wszHRnRiN_I",
      "authorship_tag": "ABX9TyP+XskgbozUVkEhIDwdg9I5",
      "include_colab_link": true
    },
    "kernelspec": {
      "name": "python3",
      "display_name": "Python 3"
    },
    "language_info": {
      "name": "python"
    }
  },
  "cells": [
    {
      "cell_type": "markdown",
      "metadata": {
        "id": "view-in-github",
        "colab_type": "text"
      },
      "source": [
        "<a href=\"https://colab.research.google.com/github/ramonfv/iniciacao-cientifica-BCI/blob/main/Filtro__CAR.ipynb\" target=\"_parent\"><img src=\"https://colab.research.google.com/assets/colab-badge.svg\" alt=\"Open In Colab\"/></a>"
      ]
    },
    {
      "cell_type": "markdown",
      "metadata": {
        "id": "7pJYyVlT0a_3"
      },
      "source": [
        "#Implementação de um sistema BCI-SSVEP\n",
        "---\n",
        "Este script da implementação do FIltro CAR, utilizado na BCI\n",
        "\n",
        "* Não foi realizada a separação dos sinais, todos as frequências foram pré-processadas, em caso de uma eventual necessidade.\n",
        "\n"
      ]
    },
    {
      "cell_type": "code",
      "metadata": {
        "id": "av-3D_gEuZ4X"
      },
      "source": [
        "#Bibliotecas científicas\n",
        "import numpy as np\n",
        "import scipy.io as sio\n",
        "from scipy.io import loadmat\n",
        "from scipy.io import savemat"
      ],
      "execution_count": null,
      "outputs": []
    },
    {
      "cell_type": "code",
      "metadata": {
        "colab": {
          "base_uri": "https://localhost:8080/"
        },
        "id": "LorgrL9huVMP",
        "outputId": "19bd51b9-f04a-4da0-a3e2-3551edd721a0"
      },
      "source": [
        "#Biblioteca para acessar o Google Drive\n",
        "from google.colab import drive\n",
        "\n",
        "#Endereço da base de dados no Google Drive\n",
        "path_database = '/content/gdrive/MyDrive/Base de dados IC/S34.mat'\n",
        "#Autoriza a leitura do Google Drive\n",
        "drive.mount('/content/gdrive')\n",
        "\n",
        "# Indivíduo testado -- 34          \n",
        "mat = sio.loadmat(path_database, verify_compressed_data_integrity=False) \n",
        "data = np.array(mat['data'])\n",
        "data.shape"
      ],
      "execution_count": null,
      "outputs": [
        {
          "output_type": "stream",
          "name": "stdout",
          "text": [
            "Mounted at /content/gdrive\n"
          ]
        },
        {
          "output_type": "execute_result",
          "data": {
            "text/plain": [
              "(64, 1500, 40, 6)"
            ]
          },
          "metadata": {},
          "execution_count": 24
        }
      ]
    },
    {
      "cell_type": "code",
      "metadata": {
        "id": "TnSiyolKuxaO"
      },
      "source": [
        "# Parâmetros de entrada\n",
        "# conforme definido no artigo, o sinal coletado tem duração de 6s no entanto os 0,5s iniciais e finais são desconsiderados\n",
        "int_dados = data[:,125:1375,:,:]\n",
        "rows,cols,freqs,trials = int_dados.shape"
      ],
      "execution_count": null,
      "outputs": []
    },
    {
      "cell_type": "code",
      "metadata": {
        "id": "RNr997zqu_S-"
      },
      "source": [
        "def filtragemCAR(int_dados,rows,cols,freqs,trials):\n",
        "  filtragem_CAR = np.zeros((rows,cols,freqs,trials))\n",
        "  # média dos sinais de entrada\n",
        "  mean_sinal_filtrado = np.mean(int_dados[:,:,:,:])\n",
        "  # Filtragem CAR\n",
        "  filtragem_CAR = int_dados[:,:,:,:] - mean_sinal_filtrado\n",
        "\n",
        "  return filtragem_CAR\n",
        "filtragem_CAR = filtragemCAR(int_dados,rows,cols,freqs,trials)\n",
        "\n",
        "mdic = {'sinaisFiltradosCAR': filtragem_CAR}\n",
        "savemat(\"filtragem_CAR.mat\",mdic)"
      ],
      "execution_count": null,
      "outputs": []
    }
  ]
}